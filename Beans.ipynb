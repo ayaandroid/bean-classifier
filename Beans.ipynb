{
  "cells": [
    {
      "cell_type": "code",
      "execution_count": 1,
      "metadata": {
        "colab": {
          "base_uri": "https://localhost:8080/"
        },
        "id": "W7dSnG-qatxD",
        "outputId": "126aba3e-0895-4e8d-9081-57cfc8a0f93b"
      },
      "outputs": [
        {
          "output_type": "stream",
          "name": "stdout",
          "text": [
            "Collecting ucimlrepo\n",
            "  Downloading ucimlrepo-0.0.7-py3-none-any.whl.metadata (5.5 kB)\n",
            "Requirement already satisfied: pandas>=1.0.0 in /usr/local/lib/python3.10/dist-packages (from ucimlrepo) (2.1.4)\n",
            "Requirement already satisfied: certifi>=2020.12.5 in /usr/local/lib/python3.10/dist-packages (from ucimlrepo) (2024.8.30)\n",
            "Requirement already satisfied: numpy<2,>=1.22.4 in /usr/local/lib/python3.10/dist-packages (from pandas>=1.0.0->ucimlrepo) (1.26.4)\n",
            "Requirement already satisfied: python-dateutil>=2.8.2 in /usr/local/lib/python3.10/dist-packages (from pandas>=1.0.0->ucimlrepo) (2.8.2)\n",
            "Requirement already satisfied: pytz>=2020.1 in /usr/local/lib/python3.10/dist-packages (from pandas>=1.0.0->ucimlrepo) (2024.2)\n",
            "Requirement already satisfied: tzdata>=2022.1 in /usr/local/lib/python3.10/dist-packages (from pandas>=1.0.0->ucimlrepo) (2024.1)\n",
            "Requirement already satisfied: six>=1.5 in /usr/local/lib/python3.10/dist-packages (from python-dateutil>=2.8.2->pandas>=1.0.0->ucimlrepo) (1.16.0)\n",
            "Downloading ucimlrepo-0.0.7-py3-none-any.whl (8.0 kB)\n",
            "Installing collected packages: ucimlrepo\n",
            "Successfully installed ucimlrepo-0.0.7\n"
          ]
        }
      ],
      "source": [
        "!pip install ucimlrepo"
      ]
    },
    {
      "cell_type": "code",
      "execution_count": 134,
      "metadata": {
        "colab": {
          "base_uri": "https://localhost:8080/"
        },
        "id": "r2G19BLncFsg",
        "outputId": "0d4cfca2-847d-4ec0-fe0d-b34b100c1ccf"
      },
      "outputs": [
        {
          "output_type": "stream",
          "name": "stdout",
          "text": [
            "{'uci_id': 602, 'name': 'Dry Bean', 'repository_url': 'https://archive.ics.uci.edu/dataset/602/dry+bean+dataset', 'data_url': 'https://archive.ics.uci.edu/static/public/602/data.csv', 'abstract': 'Images of 13,611 grains of 7 different registered dry beans were taken with a high-resolution camera. A total of 16 features; 12 dimensions and 4 shape forms, were obtained from the grains.', 'area': 'Biology', 'tasks': ['Classification'], 'characteristics': ['Multivariate'], 'num_instances': 13611, 'num_features': 16, 'feature_types': ['Integer', 'Real'], 'demographics': [], 'target_col': ['Class'], 'index_col': None, 'has_missing_values': 'no', 'missing_values_symbol': None, 'year_of_dataset_creation': 2020, 'last_updated': 'Thu Mar 28 2024', 'dataset_doi': '10.24432/C50S4B', 'creators': [], 'intro_paper': {'title': 'Multiclass classification of dry beans using computer vision and machine learning techniques', 'authors': 'M. Koklu, Ilker Ali Özkan', 'published_in': 'Computers and Electronics in Agriculture', 'year': 2020, 'url': 'https://www.semanticscholar.org/paper/e84c31138f2f261d15517d6b6bb8922c3fe597a1', 'doi': '10.1016/j.compag.2020.105507'}, 'additional_info': {'summary': 'Seven different types of dry beans were used in this research, taking into account the features such as form, shape, type, and structure by the market situation. A computer vision system was developed to distinguish seven different registered varieties of dry beans with similar features in order to obtain uniform seed classification. For the classification model, images of 13,611 grains of 7 different registered dry beans were taken with a high-resolution camera. Bean images obtained by computer vision system were subjected to segmentation and feature extraction stages, and a total of 16 features; 12 dimensions and 4 shape forms, were obtained from the grains.', 'purpose': None, 'funded_by': None, 'instances_represent': None, 'recommended_data_splits': None, 'sensitive_data': None, 'preprocessing_description': None, 'variable_info': '1.) Area (A): The area of a bean zone and the number of pixels within its boundaries.\\r\\n2.) Perimeter (P): Bean circumference is defined as the length of its border.\\r\\n3.) Major axis length (L): The distance between the ends of the longest line that can be drawn from a bean.\\r\\n4.) Minor axis length (l): The longest line that can be drawn from the bean while standing perpendicular to the main axis.\\r\\n5.) Aspect ratio (K): Defines the relationship between L and l.\\r\\n6.) Eccentricity (Ec): Eccentricity of the ellipse having the same moments as the region.\\r\\n7.) Convex area (C): Number of pixels in the smallest convex polygon that can contain the area of a bean seed.\\r\\n8.) Equivalent diameter (Ed): The diameter of a circle having the same area as a bean seed area.\\r\\n9.) Extent (Ex): The ratio of the pixels in the bounding box to the bean area.\\r\\n10.)Solidity (S): Also known as convexity. The ratio of the pixels in the convex shell to those found in beans.\\r\\n11.)Roundness (R): Calculated with the following formula: (4piA)/(P^2)\\r\\n12.)Compactness (CO): Measures the roundness of an object: Ed/L\\r\\n13.)ShapeFactor1 (SF1)\\r\\n14.)ShapeFactor2 (SF2)\\r\\n15.)ShapeFactor3 (SF3)\\r\\n16.)ShapeFactor4 (SF4)\\r\\n17.)Class (Seker, Barbunya, Bombay, Cali, Dermosan, Horoz and Sira)\\r\\n', 'citation': None}}\n",
            "               name     role         type demographic  \\\n",
            "0              Area  Feature      Integer        None   \n",
            "1         Perimeter  Feature   Continuous        None   \n",
            "2   MajorAxisLength  Feature   Continuous        None   \n",
            "3   MinorAxisLength  Feature   Continuous        None   \n",
            "4       AspectRatio  Feature   Continuous        None   \n",
            "5      Eccentricity  Feature   Continuous        None   \n",
            "6        ConvexArea  Feature      Integer        None   \n",
            "7     EquivDiameter  Feature   Continuous        None   \n",
            "8            Extent  Feature   Continuous        None   \n",
            "9          Solidity  Feature   Continuous        None   \n",
            "10        Roundness  Feature   Continuous        None   \n",
            "11      Compactness  Feature   Continuous        None   \n",
            "12     ShapeFactor1  Feature   Continuous        None   \n",
            "13     ShapeFactor2  Feature   Continuous        None   \n",
            "14     ShapeFactor3  Feature   Continuous        None   \n",
            "15     ShapeFactor4  Feature   Continuous        None   \n",
            "16            Class   Target  Categorical        None   \n",
            "\n",
            "                                          description   units missing_values  \n",
            "0   The area of a bean zone and the number of pixe...  pixels             no  \n",
            "1   Bean circumference is defined as the length of...    None             no  \n",
            "2   The distance between the ends of the longest l...    None             no  \n",
            "3   The longest line that can be drawn from the be...    None             no  \n",
            "4   Defines the relationship between MajorAxisLeng...    None             no  \n",
            "5   Eccentricity of the ellipse having the same mo...    None             no  \n",
            "6   Number of pixels in the smallest convex polygo...    None             no  \n",
            "7   Equivalent diameter: The diameter of a circle ...    None             no  \n",
            "8   The ratio of the pixels in the bounding box to...    None             no  \n",
            "9   Also known as convexity. The ratio of the pixe...    None             no  \n",
            "10  Calculated with the following formula: (4piA)/...    None             no  \n",
            "11                Measures the roundness of an object    Ed/L             no  \n",
            "12                                               None    None             no  \n",
            "13                                               None    None             no  \n",
            "14                                               None    None             no  \n",
            "15                                               None    None             no  \n",
            "16  (Seker, Barbunya, Bombay, Cali, Dermosan, Horo...    None             no  \n"
          ]
        }
      ],
      "source": [
        "from ucimlrepo import fetch_ucirepo\n",
        "\n",
        "# fetch dataset\n",
        "dry_bean = fetch_ucirepo(id=602)\n",
        "\n",
        "# data (as pandas dataframes)\n",
        "X = dry_bean.data.features\n",
        "y = dry_bean.data.targets\n",
        "\n",
        "# metadata\n",
        "print(dry_bean.metadata)\n",
        "\n",
        "# variable information\n",
        "print(dry_bean.variables)"
      ]
    },
    {
      "cell_type": "code",
      "execution_count": 135,
      "metadata": {
        "id": "O2H8WqA0fxPk"
      },
      "outputs": [],
      "source": [
        "import pandas as pd\n",
        "import numpy as np\n",
        "import random\n",
        "import matplotlib.pyplot as plt"
      ]
    },
    {
      "cell_type": "code",
      "execution_count": 136,
      "metadata": {
        "colab": {
          "base_uri": "https://localhost:8080/"
        },
        "id": "H2_l2IqONKV_",
        "outputId": "9caf29d5-cceb-49c2-a8a0-413af585b323"
      },
      "outputs": [
        {
          "output_type": "execute_result",
          "data": {
            "text/plain": [
              "array(['SEKER', 'BARBUNYA', 'BOMBAY', 'CALI', 'HOROZ', 'SIRA', 'DERMASON'],\n",
              "      dtype=object)"
            ]
          },
          "metadata": {},
          "execution_count": 136
        }
      ],
      "source": [
        "y['Class'].unique()"
      ]
    },
    {
      "cell_type": "code",
      "execution_count": 137,
      "metadata": {
        "colab": {
          "base_uri": "https://localhost:8080/"
        },
        "id": "Q6IDifrWORNf",
        "outputId": "8c175604-249c-498f-cfeb-13e8e4da3765"
      },
      "outputs": [
        {
          "output_type": "stream",
          "name": "stderr",
          "text": [
            "<ipython-input-137-17ae000170a6>:1: SettingWithCopyWarning: \n",
            "A value is trying to be set on a copy of a slice from a DataFrame\n",
            "\n",
            "See the caveats in the documentation: https://pandas.pydata.org/pandas-docs/stable/user_guide/indexing.html#returning-a-view-versus-a-copy\n",
            "  y['Class'].replace(to_replace = ['SEKER', 'BARBUNYA', 'BOMBAY', 'CALI', 'HOROZ', 'SIRA', 'DERMASON'],\n"
          ]
        }
      ],
      "source": [
        "y['Class'].replace(to_replace = ['SEKER', 'BARBUNYA', 'BOMBAY', 'CALI', 'HOROZ', 'SIRA', 'DERMASON'],\n",
        "                   value = [i for i in range(7)],\n",
        "                   inplace = True)"
      ]
    },
    {
      "cell_type": "code",
      "execution_count": 138,
      "metadata": {
        "id": "zX0pGhweO3rj"
      },
      "outputs": [],
      "source": [
        "X = np.array(X)\n",
        "y = np.array(y)"
      ]
    },
    {
      "cell_type": "code",
      "execution_count": 139,
      "metadata": {
        "id": "LK79FEy0PNWY"
      },
      "outputs": [],
      "source": [
        "p = np.arange(X.shape[0])\n",
        "np.random.shuffle(p)\n",
        "X = X[p]\n",
        "y = y[p]"
      ]
    },
    {
      "cell_type": "code",
      "execution_count": 140,
      "metadata": {
        "id": "LkGXMjeAPXUe"
      },
      "outputs": [],
      "source": [
        "X = (X-X.mean(axis=0))/X.std(axis=0)"
      ]
    },
    {
      "cell_type": "code",
      "execution_count": 141,
      "metadata": {
        "id": "20_aG_CV2g4p"
      },
      "outputs": [],
      "source": [
        "X_train = X[:int(.8*X.shape[0])]\n",
        "X_test = X[int(.8*X.shape[0]):]\n",
        "y_train = y[:int(.8*X.shape[0])]\n",
        "y_test = y[int(.8*X.shape[0]):]"
      ]
    },
    {
      "cell_type": "code",
      "execution_count": 142,
      "metadata": {
        "id": "c1ELBabiXuhk"
      },
      "outputs": [],
      "source": [
        "N = X_train.shape[0]\n",
        "D = 16\n",
        "K = 7\n",
        "H = 128 #size of hidden layer\n",
        "W1 = np.random.rand(D,H)\n",
        "b1 = np.zeros((1,H))\n",
        "W2 = np.random.rand(H,K)\n",
        "b2 = np.zeros((1,K))"
      ]
    },
    {
      "cell_type": "code",
      "execution_count": 143,
      "metadata": {
        "id": "n2ykwfJeXanz"
      },
      "outputs": [],
      "source": [
        "num_iters = 50000\n",
        "lr = 1e-3\n",
        "reg = 1e-3\n",
        "batch_size = 1"
      ]
    },
    {
      "cell_type": "code",
      "source": [
        "def sigmoid(z):\n",
        "  return 1/(1+np.exp(-z))\n",
        "\n",
        "def softmax(z):\n",
        "  m = np.max(z, axis = 1, keepdims = True)\n",
        "  e_z = np.exp(z-m)\n",
        "  return e_z/np.sum(e_z, axis = 1, keepdims = True)"
      ],
      "metadata": {
        "id": "3yMVClAC5Zaa"
      },
      "execution_count": 144,
      "outputs": []
    },
    {
      "cell_type": "code",
      "source": [
        "J_history = np.zeros(num_iters)\n",
        "\n",
        "for i in range(num_iters):\n",
        "  batch = random.sample(range(N), batch_size)\n",
        "  X_b = X_train[batch]\n",
        "  y_b = y_train[batch]\n",
        "\n",
        "  hidden = sigmoid(X_b.dot(W1)+b1)\n",
        "  scores = hidden.dot(W2)+b2\n",
        "  probs = softmax(scores)\n",
        "\n",
        "  data_loss = -np.mean(np.log(probs[range(batch_size), y_b]))\n",
        "  reg_loss = 0.5*reg*np.sum(W1*W1) + 0.5*reg*np.sum(W2*W2)\n",
        "  loss = data_loss + reg_loss\n",
        "\n",
        "  J_history[i] = loss\n",
        "\n",
        "  if i%1000 == 0:\n",
        "    print(f\"{i}th iteration loss: {loss}\")\n",
        "\n",
        "  dscores = probs\n",
        "  dscores[range(batch_size), y_b] -= 1\n",
        "  dscores /= batch_size\n",
        "  dW2 = (hidden.T).dot(dscores)\n",
        "  db2 = dscores[0]\n",
        "  dhidden = dscores.dot(W2.T)\n",
        "  temp = dhidden*hidden*(1-hidden)\n",
        "  dW1 = (X_b.T).dot(temp)\n",
        "  db1 = temp[0]\n",
        "\n",
        "  dW1 += reg*W1\n",
        "  dW2 += reg*W2\n",
        "\n",
        "  W1 -= lr*dW1\n",
        "  b1 -= lr*db1\n",
        "  W2 -= lr*dW2\n",
        "  b2 -= lr*db2"
      ],
      "metadata": {
        "colab": {
          "base_uri": "https://localhost:8080/"
        },
        "id": "xjttdALx5SNH",
        "outputId": "d9ab0ae4-b8b7-4d1e-a5f4-a51a33619ff7"
      },
      "execution_count": 145,
      "outputs": [
        {
          "output_type": "stream",
          "name": "stdout",
          "text": [
            "0th iteration loss: 6.987918724307768\n",
            "1000th iteration loss: 2.134374041506324\n",
            "2000th iteration loss: 0.7806765746239483\n",
            "3000th iteration loss: 1.3281126353031085\n",
            "4000th iteration loss: 1.2647993465231266\n",
            "5000th iteration loss: 0.7019379489121507\n",
            "6000th iteration loss: 1.0851630109753714\n",
            "7000th iteration loss: 1.4392292489147214\n",
            "8000th iteration loss: 1.7303336180787499\n",
            "9000th iteration loss: 0.5993419096268089\n",
            "10000th iteration loss: 1.0401235917348204\n",
            "11000th iteration loss: 0.8122847788795293\n",
            "12000th iteration loss: 0.5384392467256711\n",
            "13000th iteration loss: 0.9119038750989972\n",
            "14000th iteration loss: 0.5849417329703214\n",
            "15000th iteration loss: 0.7411041811349883\n",
            "16000th iteration loss: 1.0527765699558218\n",
            "17000th iteration loss: 1.155146506620075\n",
            "18000th iteration loss: 1.2729550218539096\n",
            "19000th iteration loss: 0.7226018974108073\n",
            "20000th iteration loss: 0.5338380663621446\n",
            "21000th iteration loss: 0.5366369573689864\n",
            "22000th iteration loss: 0.5531742479015603\n",
            "23000th iteration loss: 0.760330460367034\n",
            "24000th iteration loss: 0.5573262677260697\n",
            "25000th iteration loss: 2.1371097939125607\n",
            "26000th iteration loss: 1.2314268335582232\n",
            "27000th iteration loss: 0.6822180661347147\n",
            "28000th iteration loss: 0.5502282427045536\n",
            "29000th iteration loss: 1.5603588178328127\n",
            "30000th iteration loss: 0.624108176842163\n",
            "31000th iteration loss: 0.7734318545535452\n",
            "32000th iteration loss: 0.5240852741150936\n",
            "33000th iteration loss: 2.5479813576808956\n",
            "34000th iteration loss: 0.6793363352377235\n",
            "35000th iteration loss: 1.1609831585846873\n",
            "36000th iteration loss: 0.5073333962250475\n",
            "37000th iteration loss: 1.8791939353622729\n",
            "38000th iteration loss: 0.6115171589393478\n",
            "39000th iteration loss: 0.4781076780620632\n",
            "40000th iteration loss: 0.5144197994111721\n",
            "41000th iteration loss: 0.5054491014863423\n",
            "42000th iteration loss: 0.6228627943346454\n",
            "43000th iteration loss: 0.48324106186523313\n",
            "44000th iteration loss: 1.4214496147076476\n",
            "45000th iteration loss: 0.9241050742751703\n",
            "46000th iteration loss: 0.650268686963674\n",
            "47000th iteration loss: 0.6394466205286286\n",
            "48000th iteration loss: 0.49495863675092727\n",
            "49000th iteration loss: 0.5085419421991683\n"
          ]
        }
      ]
    },
    {
      "cell_type": "code",
      "source": [
        "#moving average plot\n",
        "window_size = 1000\n",
        "s = J_history[:window_size].sum()\n",
        "A = [s/window_size]\n",
        "for i in range(window_size+1, num_iters):\n",
        "  s -= J_history[i-window_size-1]\n",
        "  s += J_history[i]\n",
        "  A.append(s/window_size)\n",
        "plt.plot(range(len(A)), A)"
      ],
      "metadata": {
        "colab": {
          "base_uri": "https://localhost:8080/",
          "height": 448
        },
        "id": "RxNRLruKLkR9",
        "outputId": "b839e6c1-9def-4efe-8348-daecbef583ed"
      },
      "execution_count": 146,
      "outputs": [
        {
          "output_type": "execute_result",
          "data": {
            "text/plain": [
              "[<matplotlib.lines.Line2D at 0x7fd9f022e7d0>]"
            ]
          },
          "metadata": {},
          "execution_count": 146
        },
        {
          "output_type": "display_data",
          "data": {
            "text/plain": [
              "<Figure size 640x480 with 1 Axes>"
            ],
            "image/png": "[encoded data removed]"
          },
          "metadata": {}
        }
      ]
    },
    {
      "cell_type": "code",
      "source": [
        "def pred(X):\n",
        "  hidden = sigmoid(X.dot(W1)+b1)\n",
        "  scores = hidden.dot(W2)+b2\n",
        "  probs = softmax(scores)\n",
        "  return np.argmax(probs, axis = 1, keepdims = True)"
      ],
      "metadata": {
        "id": "2FEb1v009a8W"
      },
      "execution_count": 147,
      "outputs": []
    },
    {
      "cell_type": "code",
      "source": [
        "y_pred = pred(X_test)"
      ],
      "metadata": {
        "id": "tC-BxuQp9mC8"
      },
      "execution_count": 148,
      "outputs": []
    },
    {
      "cell_type": "code",
      "source": [
        "100*(y_pred == y_test).sum()/len(y_pred)"
      ],
      "metadata": {
        "colab": {
          "base_uri": "https://localhost:8080/"
        },
        "id": "HMitiHak9pzD",
        "outputId": "c873ac86-7a1d-48e5-bd19-96bd1fec6bc5"
      },
      "execution_count": 149,
      "outputs": [
        {
          "output_type": "execute_result",
          "data": {
            "text/plain": [
              "90.0477414616232"
            ]
          },
          "metadata": {},
          "execution_count": 149
        }
      ]
    }
  ],
  "metadata": {
    "colab": {
      "provenance": [],
      "gpuType": "T4"
    },
    "kernelspec": {
      "display_name": "Python 3",
      "name": "python3"
    },
    "language_info": {
      "name": "python"
    },
    "accelerator": "GPU"
  },
  "nbformat": 4,
  "nbformat_minor": 0
}